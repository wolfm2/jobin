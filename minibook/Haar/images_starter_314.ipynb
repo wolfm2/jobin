{
 "cells": [
  {
   "cell_type": "code",
   "execution_count": 1,
   "metadata": {
    "collapsed": true
   },
   "outputs": [],
   "source": [
    "import numpy as np\n",
    "import pandas as pd\n",
    "import matplotlib.pyplot as plt\n",
    "import pickle\n",
    "from skimage import io, color, img_as_bool, exposure, transform, feature\n",
    "%matplotlib inline"
   ]
  },
  {
   "cell_type": "code",
   "execution_count": 52,
   "metadata": {
    "collapsed": true
   },
   "outputs": [],
   "source": [
    "# file paths\n",
    "ci_path = '/home/eydu/plane_data/cropped_images_18/'\n",
    "fi_path = '/home/eydu/plane_data/full_images_18/'\n",
    "l_file = '/home/eydu/plane_data/plane_labels_2018.csv'\n",
    "sandbox = '/home/eydu/plane_data/sandbox/'"
   ]
  },
  {
   "cell_type": "code",
   "execution_count": 5,
   "metadata": {},
   "outputs": [
    {
     "name": "stdout",
     "output_type": "stream",
     "text": [
      "                   img_name  plane\n",
      "0  2016-08-02T13+50+24_430Z  False\n",
      "1  2016-08-02T14+12+37_390Z  False\n",
      "2  2016-08-02T22+20+26_600Z  False\n",
      "3  2016-08-03T12+04+30_670Z  False\n",
      "4  2016-08-03T12+32+21_790Z  False\n",
      "(6758, 2)\n"
     ]
    }
   ],
   "source": [
    "# all labels\n",
    "plane_data = pd.read_csv(l_file)\n",
    "print(plane_data.head())\n",
    "print(plane_data.shape)"
   ]
  },
  {
   "cell_type": "code",
   "execution_count": 6,
   "metadata": {},
   "outputs": [
    {
     "name": "stdout",
     "output_type": "stream",
     "text": [
      "101\n",
      "(101, 2)\n"
     ]
    }
   ],
   "source": [
    "# filter to include only the airplane images\n",
    "print(plane_data['plane'].sum())\n",
    "aircraft = plane_data[plane_data['plane']==True]\n",
    "print(aircraft.shape)"
   ]
  },
  {
   "cell_type": "code",
   "execution_count": 47,
   "metadata": {},
   "outputs": [],
   "source": [
    "# Run once to prep data\n",
    "# NOTE: SPLIT THESE INTO TRAIN TEST BATCHES!\n",
    "# mlp: hidden neurons, lazers, iters\n",
    "\n",
    "posImg = plane_data[plane_data['plane']==True]\n",
    "negImg = plane_data[plane_data['plane']==False]\n",
    "\n",
    "fp = open(sandbox + \"info.txt\",\"w\") \n",
    "fn = open(sandbox + \"bg.txt\",\"w\") \n",
    "\n",
    "# NOTE MIGHT NEED TO GEN MORE FILES!  Typ: 1000.  HAVE: 101\n",
    "for index, row in posImg.iterrows():\n",
    "    imname = ci_path + row['img_name'] + '.png'\n",
    "    img_raw = cv2.imread(imname)\n",
    "    # final_image = color.rgb2gray(img_raw)\n",
    "    final_image = cv2.cvtColor(img_raw, cv2.COLOR_BGR2GRAY)\n",
    "    im = sandbox + 'pos/' + row['img_name'] + '.png'\n",
    "    plt.imsave(im, final_image)\n",
    "    fp.write('pos/' + row['img_name'] + '.png 1 0 0 140 60\\n')\n",
    "    \n",
    "for index, row in negImg.iterrows():\n",
    "    imname = ci_path + row['img_name'] + '.png'\n",
    "    img_raw = cv2.imread(imname)\n",
    "    # final_image = color.rgb2gray(img_raw)\n",
    "    final_image = cv2.cvtColor(img_raw, cv2.COLOR_BGR2GRAY)\n",
    "    im = sandbox + 'neg/' + row['img_name'] + '.png'\n",
    "    plt.imsave(im, final_image)\n",
    "    fn.write('neg/' + row['img_name'] + '.png\\n')\n",
    "    \n",
    "fp.close()\n",
    "fn.close()"
   ]
  },
  {
   "cell_type": "code",
   "execution_count": null,
   "metadata": {
    "collapsed": true
   },
   "outputs": [],
   "source": [
    "# Generate needed files\n",
    "\n",
    "# in sandbox\n",
    "# Vector File (stitching all positives together)\n",
    "# opencv_createsamples-info info.txt -w 20 -h 20 -vec pos.vec -num 101 # might up this to 25x25 but increases work exponentially\n",
    "# opencv_traincascade -data haarData -vec pos.vec -bg bg.txt -numPos 101, -numNeg 6657 -numStages 10 -w 20 -h 20\n",
    "\n",
    "# makePos.sh\n",
    "# find info/* -name *.jpg | wc -l # to verify the number\n",
    "\n",
    "# ATTIC\n",
    "# opencv_createsamples -img ourimg -bg bg.txt -info info/info.lst -pngoutput info -maxxangle 0.5 -maxyangle 0.5 -maxzangle 0.5 -num 30\n",
    "# find pos/ -exec opencv_createsamples -img {} -bg bg.txt -info info/info.lst -pngoutput info -maxxangle 0.5 -maxyangle 0.5 -maxzangle 0.5 -num 3 \\; -exec bash -c \"cat info/info.lst >> info/info.txt\" \\;"
   ]
  },
  {
   "cell_type": "code",
   "execution_count": 50,
   "metadata": {},
   "outputs": [],
   "source": [
    "import cv2\n",
    "\n",
    "#LBP CASCADE WORKS GREAT\n",
    "\n",
    "X = plane_data\n",
    "\n",
    "plane_cascade = cv2.CascadeClassifier('/home/eydu/plane_data/sandbox/haarData/cascade.xml')\n",
    "\n",
    "def haarPredict(X):\n",
    "    rv = []\n",
    "    \n",
    "    for index, row in X.iterrows():\n",
    "        imname = fi_path + row['img_name'] + '.png'\n",
    "        img_raw = cv2.imread(imname)\n",
    "        #final_image = color.rgb2gray(img_raw)\n",
    "        final_image = cv2.cvtColor(img_raw, cv2.COLOR_BGR2GRAY) # instead of converting io.imread conversion\n",
    "        # final_image0 = np.array(final_image, dtype='uint8')\n",
    "        rv.append(len(plane_cascade.detectMultiScale(final_image, 50, 50)) > 0)\n",
    "        #rv.append(len(plane_cascade.detectMultiScale(final_image0)) > 0)\n",
    "        \n",
    "    return(np.array(rv))\n"
   ]
  },
  {
   "cell_type": "code",
   "execution_count": 53,
   "metadata": {},
   "outputs": [
    {
     "name": "stdout",
     "output_type": "stream",
     "text": [
      "{'Pos': 101, 'Neg': 6657, 'TP': 0, 'TN': 6656, 'FP': 1, 'FN': 101, 'Accuracy': 0.9849067771530039, 'Precision': 0.0, 'Recall': 0.0, 'desc': 'haar wavelet cascade'}\n"
     ]
    }
   ],
   "source": [
    "from my_measures import BinaryClassificationPerformance\n",
    "\n",
    "y = plane_data['plane'] # get vector of labels \n",
    "\n",
    "\n",
    "performance = BinaryClassificationPerformance(haarPredict(X), y, 'haar wavelet cascade')\n",
    "performance.compute_measures()\n",
    "print(performance.performance_measures)"
   ]
  },
  {
   "cell_type": "code",
   "execution_count": 5,
   "metadata": {},
   "outputs": [
    {
     "name": "stdout",
     "output_type": "stream",
     "text": [
      "(20, 2)\n"
     ]
    }
   ],
   "source": [
    "# take a random subset of 20 of the airplane images\n",
    "aircraft_subset = aircraft.sample(20)\n",
    "print(aircraft_subset.shape)"
   ]
  },
  {
   "cell_type": "code",
   "execution_count": 8,
   "metadata": {},
   "outputs": [
    {
     "name": "stdout",
     "output_type": "stream",
     "text": [
      "(60, 140)\n",
      "[[ 0.41239137  0.37317569  0.20454824 ...,  0.3607902   0.35294706\n",
      "   0.31178196]\n",
      " [ 0.39668235  0.37904667  0.23394863 ...,  0.56724941  0.58293569\n",
      "   0.56641608]\n",
      " [ 0.40452549  0.37904667  0.24179176 ...,  0.44175922  0.41038667\n",
      "   0.40955333]\n",
      " ..., \n",
      " [ 0.52405373  0.52405373  0.52013216 ...,  0.47503059  0.47503059\n",
      "   0.47503059]\n",
      " [ 0.52013216  0.52013216  0.51621059 ...,  0.47895216  0.47895216\n",
      "   0.47895216]\n",
      " [ 0.52013216  0.52013216  0.51621059 ...,  0.49071686  0.49071686\n",
      "   0.49071686]]\n"
     ]
    }
   ],
   "source": [
    "# for each of the subset images, alter them and view the alterations\n",
    "f = open(sandbox + \"view_images.html\",\"w\") \n",
    "first_image = False\n",
    "\n",
    "for index, row in aircraft_subset.iterrows():\n",
    "    imname = ci_path + row['img_name'] + '.png'\n",
    "    img_raw = io.imread(imname)\n",
    "#     final_image = img_as_bool(img_raw) \n",
    "    final_image = color.rgb2gray(img_raw)\n",
    "    im = sandbox + row['img_name'] + '.png'\n",
    "    plt.imsave(im, final_image)\n",
    "    if first_image==False:\n",
    "        print(final_image.shape)\n",
    "        print(final_image)\n",
    "        first_image = True\n",
    "    f.write(\"<img src='\" + row['img_name'] + \".png' width='320'>\\n\")\n",
    "\n",
    "f.close() \n"
   ]
  },
  {
   "cell_type": "code",
   "execution_count": null,
   "metadata": {
    "collapsed": true
   },
   "outputs": [],
   "source": []
  }
 ],
 "metadata": {
  "kernelspec": {
   "display_name": "Python 3",
   "language": "python",
   "name": "python3"
  },
  "language_info": {
   "codemirror_mode": {
    "name": "ipython",
    "version": 3
   },
   "file_extension": ".py",
   "mimetype": "text/x-python",
   "name": "python",
   "nbconvert_exporter": "python",
   "pygments_lexer": "ipython3",
   "version": "3.6.3"
  }
 },
 "nbformat": 4,
 "nbformat_minor": 2
}
