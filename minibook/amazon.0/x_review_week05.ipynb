{
 "cells": [
  {
   "cell_type": "code",
   "execution_count": 1,
   "metadata": {
    "collapsed": true
   },
   "outputs": [],
   "source": [
    "import numpy as np\n",
    "import pandas as pd\n",
    "import matplotlib.pyplot as plt\n",
    "%matplotlib inline"
   ]
  },
  {
   "cell_type": "markdown",
   "metadata": {},
   "source": [
    "### read the raw data"
   ]
  },
  {
   "cell_type": "code",
   "execution_count": 2,
   "metadata": {
    "collapsed": false
   },
   "outputs": [
    {
     "name": "stdout",
     "output_type": "stream",
     "text": [
      "term          object\n",
      "definition    object\n",
      "ml              bool\n",
      "dtype: object\n",
      "               term                                         definition    ml\n",
      "0  machine learning  a process of automating algorithms, by which a...  True\n",
      "1  machine learning  let the machine have freedom to make logical, ...  True\n",
      "2  machine learning  using computational and algorithmic methods to...  True\n",
      "3  machine learning  is a subfield of artificial intelligence in wh...  True\n",
      "4  machine learning  a computational approach to understanding and ...  True\n",
      "5  machine learning  a computerized process of trial and error wher...  True\n",
      "6  machine learning  when a program recodes itself given new inform...  True\n",
      "7  machine learning  program to machine learns by itself with previ...  True\n",
      "8  machine learning  training computers to learn to do something ra...  True\n",
      "9  machine learning  teaching machines, systems, and devices to thi...  True\n"
     ]
    }
   ],
   "source": [
    "data = pd.read_csv('../week05/definitions.csv')\n",
    "\n",
    "# create a boolean indicator =True if the definition is of \"machine learning\"\n",
    "data['ml'] = data['term'] == 'machine learning'\n",
    "\n",
    "print(data.dtypes)\n",
    "print(data.head(10))"
   ]
  },
  {
   "cell_type": "markdown",
   "metadata": {},
   "source": [
    "### create feature set X (matrix) and vector of labels L"
   ]
  },
  {
   "cell_type": "code",
   "execution_count": 3,
   "metadata": {
    "collapsed": false
   },
   "outputs": [
    {
     "data": {
      "text/plain": [
       "['ability',\n",
       " 'able',\n",
       " 'about',\n",
       " 'according',\n",
       " 'achieve',\n",
       " 'acquire',\n",
       " 'act',\n",
       " 'actions',\n",
       " 'adjusts',\n",
       " 'aid',\n",
       " 'algorithmic',\n",
       " 'algorithms',\n",
       " 'all',\n",
       " 'allow',\n",
       " 'allowing',\n",
       " 'always',\n",
       " 'an',\n",
       " 'analysis',\n",
       " 'analyze',\n",
       " 'and',\n",
       " 'animal',\n",
       " 'any',\n",
       " 'applied',\n",
       " 'applying',\n",
       " 'approach',\n",
       " 'are',\n",
       " 'artificial',\n",
       " 'as',\n",
       " 'assess',\n",
       " 'assist',\n",
       " 'assuming',\n",
       " 'at',\n",
       " 'attempt',\n",
       " 'automated',\n",
       " 'automatically',\n",
       " 'automating',\n",
       " 'autonomous',\n",
       " 'based',\n",
       " 'behavior',\n",
       " 'behaviors',\n",
       " 'being',\n",
       " 'better',\n",
       " 'between',\n",
       " 'biological',\n",
       " 'bit',\n",
       " 'bodies',\n",
       " 'brain',\n",
       " 'branches',\n",
       " 'broad',\n",
       " 'but',\n",
       " 'by',\n",
       " 'can',\n",
       " 'cannot',\n",
       " 'capable',\n",
       " 'categorize',\n",
       " 'class',\n",
       " 'classification',\n",
       " 'clustering',\n",
       " 'cognition',\n",
       " 'cognitive',\n",
       " 'come',\n",
       " 'comparable',\n",
       " 'complete',\n",
       " 'computational',\n",
       " 'computationally',\n",
       " 'computer',\n",
       " 'computerized',\n",
       " 'computers',\n",
       " 'connected',\n",
       " 'constituted',\n",
       " 'constructed',\n",
       " 'content',\n",
       " 'correct',\n",
       " 'could',\n",
       " 'created',\n",
       " 'creating',\n",
       " 'data',\n",
       " 'database',\n",
       " 'databases',\n",
       " 'decision',\n",
       " 'decisions',\n",
       " 'demonstrate',\n",
       " 'design',\n",
       " 'designed',\n",
       " 'detection',\n",
       " 'develop',\n",
       " 'develops',\n",
       " 'devices',\n",
       " 'difference',\n",
       " 'digital',\n",
       " 'do',\n",
       " 'doesn',\n",
       " 'don',\n",
       " 'emulate',\n",
       " 'emulates',\n",
       " 'entities',\n",
       " 'error',\n",
       " 'essentially',\n",
       " 'existence',\n",
       " 'experience',\n",
       " 'experiences',\n",
       " 'explicitly',\n",
       " 'extrapolate',\n",
       " 'faced',\n",
       " 'feedback',\n",
       " 'field',\n",
       " 'for',\n",
       " 'freedom',\n",
       " 'from',\n",
       " 'function',\n",
       " 'future',\n",
       " 'game',\n",
       " 'generally',\n",
       " 'generation',\n",
       " 'given',\n",
       " 'handle',\n",
       " 'has',\n",
       " 'have',\n",
       " 'help',\n",
       " 'helps',\n",
       " 'how',\n",
       " 'human',\n",
       " 'humans',\n",
       " 'identify',\n",
       " 'if',\n",
       " 'imagination',\n",
       " 'imitates',\n",
       " 'improve',\n",
       " 'in',\n",
       " 'include',\n",
       " 'including',\n",
       " 'independently',\n",
       " 'ineffable',\n",
       " 'inferences',\n",
       " 'information',\n",
       " 'informed',\n",
       " 'input',\n",
       " 'instructions',\n",
       " 'intelligence',\n",
       " 'intelligences',\n",
       " 'intelligent',\n",
       " 'involve',\n",
       " 'involves',\n",
       " 'is',\n",
       " 'it',\n",
       " 'its',\n",
       " 'itself',\n",
       " 'kind',\n",
       " 'knowledge',\n",
       " 'known',\n",
       " 'label',\n",
       " 'language',\n",
       " 'learn',\n",
       " 'learning',\n",
       " 'learns',\n",
       " 'less',\n",
       " 'let',\n",
       " 'level',\n",
       " 'like',\n",
       " 'likelihood',\n",
       " 'logical',\n",
       " 'lot',\n",
       " 'machine',\n",
       " 'machines',\n",
       " 'make',\n",
       " 'making',\n",
       " 'manual',\n",
       " 'matching',\n",
       " 'mathematical',\n",
       " 'meant',\n",
       " 'mechanical',\n",
       " 'memories',\n",
       " 'memory',\n",
       " 'methods',\n",
       " 'mimic',\n",
       " 'mind',\n",
       " 'model',\n",
       " 'modeled',\n",
       " 'more',\n",
       " 'much',\n",
       " 'multidisciplinary',\n",
       " 'natural',\n",
       " 'networks',\n",
       " 'neural',\n",
       " 'new',\n",
       " 'non',\n",
       " 'nonbiological',\n",
       " 'not',\n",
       " 'object',\n",
       " 'objective',\n",
       " 'objects',\n",
       " 'of',\n",
       " 'often',\n",
       " 'oftentimes',\n",
       " 'on',\n",
       " 'or',\n",
       " 'organism',\n",
       " 'other',\n",
       " 'outcome',\n",
       " 'outcomes',\n",
       " 'output',\n",
       " 'over',\n",
       " 'own',\n",
       " 'patterns',\n",
       " 'perform',\n",
       " 'phenomena',\n",
       " 'playing',\n",
       " 'predefined',\n",
       " 'predict',\n",
       " 'predicting',\n",
       " 'predictions',\n",
       " 'prescribing',\n",
       " 'present',\n",
       " 'previous',\n",
       " 'prior',\n",
       " 'probabilities',\n",
       " 'problem',\n",
       " 'problems',\n",
       " 'process',\n",
       " 'processing',\n",
       " 'produce',\n",
       " 'proficiency',\n",
       " 'program',\n",
       " 'programmatic',\n",
       " 'programmed',\n",
       " 'programmer',\n",
       " 'progressive',\n",
       " 'provide',\n",
       " 'quantitative',\n",
       " 'queries',\n",
       " 'quickly',\n",
       " 'rather',\n",
       " 'reason',\n",
       " 'reasoning',\n",
       " 'recodes',\n",
       " 'recognize',\n",
       " 'recursive',\n",
       " 'reductionist',\n",
       " 'reference',\n",
       " 'reflect',\n",
       " 'regarding',\n",
       " 'relating',\n",
       " 'relationships',\n",
       " 'requested',\n",
       " 'require',\n",
       " 'research',\n",
       " 'resemble',\n",
       " 'results',\n",
       " 'retrieval',\n",
       " 'run',\n",
       " 'say',\n",
       " 'scale',\n",
       " 'scenario',\n",
       " 'science',\n",
       " 'sciences',\n",
       " 'self',\n",
       " 'series',\n",
       " 'set',\n",
       " 'similar',\n",
       " 'skills',\n",
       " 'so',\n",
       " 'software',\n",
       " 'solutions',\n",
       " 'solve',\n",
       " 'some',\n",
       " 'something',\n",
       " 'sort',\n",
       " 'sorting',\n",
       " 'specific',\n",
       " 'state',\n",
       " 'statistical',\n",
       " 'store',\n",
       " 'stored',\n",
       " 'study',\n",
       " 'subfield',\n",
       " 'synapses',\n",
       " 'system',\n",
       " 'systems',\n",
       " 'target',\n",
       " 'tasks',\n",
       " 'taught',\n",
       " 'teaching',\n",
       " 'techniques',\n",
       " 'test',\n",
       " 'than',\n",
       " 'that',\n",
       " 'the',\n",
       " 'their',\n",
       " 'theoretical',\n",
       " 'there',\n",
       " 'they',\n",
       " 'things',\n",
       " 'think',\n",
       " 'thought',\n",
       " 'through',\n",
       " 'time',\n",
       " 'to',\n",
       " 'training',\n",
       " 'trial',\n",
       " 'understand',\n",
       " 'understanding',\n",
       " 'up',\n",
       " 'use',\n",
       " 'used',\n",
       " 'user',\n",
       " 'uses',\n",
       " 'using',\n",
       " 'utilize',\n",
       " 'utilized',\n",
       " 'version',\n",
       " 'versus',\n",
       " 'virtual',\n",
       " 'visualize',\n",
       " 'wants',\n",
       " 'wasn',\n",
       " 'we',\n",
       " 'weighted',\n",
       " 'what',\n",
       " 'when',\n",
       " 'where',\n",
       " 'whereby',\n",
       " 'which',\n",
       " 'will',\n",
       " 'with',\n",
       " 'without',\n",
       " 'works',\n",
       " 'would',\n",
       " 'write']"
      ]
     },
     "execution_count": 3,
     "metadata": {},
     "output_type": "execute_result"
    }
   ],
   "source": [
    "from sklearn.feature_extraction.text import CountVectorizer\n",
    "vectorizer = CountVectorizer()\n",
    "corpus = data['definition']\n",
    "X = vectorizer.fit_transform(corpus)\n",
    "L = data[\"ml\"]\n",
    "\n",
    "# print features names in X\n",
    "vectorizer.get_feature_names()"
   ]
  },
  {
   "cell_type": "markdown",
   "metadata": {},
   "source": [
    "### fit new text to the feature extraction fit and evaluate its output"
   ]
  },
  {
   "cell_type": "code",
   "execution_count": 4,
   "metadata": {
    "collapsed": false
   },
   "outputs": [
    {
     "data": {
      "text/plain": [
       "array([[0, 0, 0, 0, 0, 0, 0, 0, 0, 0, 0, 0, 0, 0, 0, 0, 0, 0, 0, 0, 0, 0,\n",
       "        0, 0, 0, 0, 0, 0, 0, 0, 0, 0, 0, 0, 0, 0, 0, 0, 0, 0, 0, 0, 0, 0,\n",
       "        0, 0, 0, 0, 0, 0, 0, 0, 0, 0, 0, 0, 0, 0, 0, 0, 0, 0, 0, 0, 0, 0,\n",
       "        0, 0, 0, 0, 0, 0, 0, 0, 0, 0, 0, 0, 0, 0, 0, 0, 0, 0, 0, 0, 0, 0,\n",
       "        0, 0, 0, 0, 0, 0, 0, 0, 0, 0, 0, 0, 0, 0, 0, 0, 0, 0, 0, 0, 0, 0,\n",
       "        0, 0, 0, 0, 0, 0, 0, 0, 0, 0, 0, 0, 0, 0, 0, 0, 0, 0, 0, 0, 0, 0,\n",
       "        0, 0, 0, 0, 0, 0, 0, 0, 0, 0, 0, 0, 0, 0, 0, 0, 0, 0, 0, 0, 0, 0,\n",
       "        0, 0, 0, 0, 0, 0, 0, 0, 0, 0, 0, 0, 0, 0, 0, 0, 0, 0, 0, 0, 0, 0,\n",
       "        0, 0, 0, 0, 0, 0, 0, 0, 1, 0, 0, 0, 0, 0, 0, 0, 0, 0, 0, 0, 0, 0,\n",
       "        0, 0, 0, 0, 0, 0, 0, 0, 0, 0, 0, 0, 0, 0, 0, 0, 0, 0, 0, 0, 0, 0,\n",
       "        0, 0, 0, 0, 0, 0, 0, 0, 0, 0, 0, 0, 0, 0, 0, 0, 0, 0, 0, 0, 0, 0,\n",
       "        0, 0, 0, 0, 0, 0, 0, 0, 0, 0, 0, 0, 0, 0, 0, 0, 0, 0, 0, 0, 0, 0,\n",
       "        0, 1, 0, 0, 0, 0, 0, 0, 0, 0, 0, 0, 0, 0, 0, 0, 0, 0, 0, 0, 0, 0,\n",
       "        0, 0, 0, 0, 0, 0, 0, 0, 0, 0, 0, 0, 0, 0, 0, 0, 0, 0, 0, 0, 0, 0,\n",
       "        0, 0, 0, 0, 0, 0, 0, 0, 0, 0, 0, 0, 0, 0, 0, 0, 0, 0, 0, 0]])"
      ]
     },
     "execution_count": 4,
     "metadata": {},
     "output_type": "execute_result"
    }
   ],
   "source": [
    "# test transform \n",
    "vectorizer.transform(['Something completely new.']).toarray()"
   ]
  },
  {
   "cell_type": "code",
   "execution_count": 5,
   "metadata": {
    "collapsed": false
   },
   "outputs": [
    {
     "name": "stdout",
     "output_type": "stream",
     "text": [
      "new\n",
      "something\n"
     ]
    }
   ],
   "source": [
    "for i in range(0, len(vectorizer.transform(['Something completely new.']).toarray()[0])):\n",
    "    if vectorizer.transform(['Something completely new.']).toarray()[0][i] > 0:\n",
    "        print(vectorizer.get_feature_names()[i])"
   ]
  },
  {
   "cell_type": "markdown",
   "metadata": {},
   "source": [
    "### fit X, L to SVM using gradient descent"
   ]
  },
  {
   "cell_type": "code",
   "execution_count": 6,
   "metadata": {
    "collapsed": false
   },
   "outputs": [
    {
     "data": {
      "text/plain": [
       "SGDClassifier(alpha=0.0001, average=False, class_weight=None, epsilon=0.1,\n",
       "       eta0=0.0, fit_intercept=True, l1_ratio=0.15,\n",
       "       learning_rate='optimal', loss='hinge', n_iter=100000, n_jobs=1,\n",
       "       penalty='l2', power_t=0.5, random_state=None, shuffle=True,\n",
       "       verbose=0, warm_start=False)"
      ]
     },
     "execution_count": 6,
     "metadata": {},
     "output_type": "execute_result"
    }
   ],
   "source": [
    "# fit SVM\n",
    "from sklearn import linear_model\n",
    "sgd = linear_model.SGDClassifier(n_iter=100000)\n",
    "sgd.fit(X, L)"
   ]
  },
  {
   "cell_type": "markdown",
   "metadata": {},
   "source": [
    "### assess performance"
   ]
  },
  {
   "cell_type": "code",
   "execution_count": 7,
   "metadata": {
    "collapsed": false
   },
   "outputs": [
    {
     "name": "stdout",
     "output_type": "stream",
     "text": [
      "{'TN': 21, 'desc': 'sgd', 'Neg': 21, 'FP': 0, 'Precision': 1.0, 'Recall': 1.0, 'Accuracy': 1.0, 'FN': 0, 'Pos': 21, 'TP': 21}\n"
     ]
    }
   ],
   "source": [
    "# look at performance measures\n",
    "import my_measures\n",
    "\n",
    "performance_measures = my_measures.BinaryClassificationPerformance(sgd.predict(X), L, 'sgd')\n",
    "performance_measures.compute_measures()\n",
    "print(performance_measures.performance_measures)"
   ]
  },
  {
   "cell_type": "markdown",
   "metadata": {
    "collapsed": true
   },
   "source": [
    "### test model on unseen definitions"
   ]
  },
  {
   "cell_type": "code",
   "execution_count": 8,
   "metadata": {
    "collapsed": false
   },
   "outputs": [
    {
     "name": "stdout",
     "output_type": "stream",
     "text": [
      "Machine learning is a field of computer science that gives computers the ability to learn without being explicitly programmed.\n",
      "* * *\n",
      "Machine learning is an application of artificial intelligence (AI) that provides systems the ability to automatically learn and improve from experience without being explicitly programmed. Machine learning focuses on the development of computer programs that can access data and use it learn for themselves.\n",
      "* * *\n",
      "Machine Learning is the science of getting computers to learn and act like humans do, and improve their learning over time in autonomous fashion, by feeding them data and information in the form of observations and real-world interactions.\n",
      "* * *\n"
     ]
    }
   ],
   "source": [
    "# machine learning definitions\n",
    "# Wikipedia, Expert System, Tech Emergence\n",
    "ml_defs = [\"Machine learning is a field of computer science that gives computers the ability to learn without being explicitly programmed.\",\n",
    "          \"Machine learning is an application of artificial intelligence (AI) that provides systems the ability to automatically learn and improve from experience without being explicitly programmed. Machine learning focuses on the development of computer programs that can access data and use it learn for themselves.\",\n",
    "          \"Machine Learning is the science of getting computers to learn and act like humans do, and improve their learning over time in autonomous fashion, by feeding them data and information in the form of observations and real-world interactions.\"]\n",
    "\n",
    "for d in ml_defs:\n",
    "    print(d)\n",
    "    print(\"* * *\")"
   ]
  },
  {
   "cell_type": "code",
   "execution_count": 9,
   "metadata": {
    "collapsed": false
   },
   "outputs": [
    {
     "name": "stdout",
     "output_type": "stream",
     "text": [
      "Artificial intelligence (AI, also machine intelligence, MI) is intelligence demonstrated by machines, in contrast to the natural intelligence (NI) displayed by humans and other animals.\n",
      "* * *\n",
      "the theory and development of computer systems able to perform tasks that normally require human intelligence, such as visual perception, speech recognition, decision-making, and translation between languages\n",
      "* * *\n"
     ]
    }
   ],
   "source": [
    "# AI definitions\n",
    "# Wikipedia, Oxford dictionary\n",
    "ai_defs = [\"Artificial intelligence (AI, also machine intelligence, MI) is intelligence demonstrated by machines, in contrast to the natural intelligence (NI) displayed by humans and other animals.\",\n",
    "          \"the theory and development of computer systems able to perform tasks that normally require human intelligence, such as visual perception, speech recognition, decision-making, and translation between languages\"]\n",
    "\n",
    "for d in ai_defs:\n",
    "    print(d)\n",
    "    print(\"* * *\")"
   ]
  },
  {
   "cell_type": "code",
   "execution_count": 10,
   "metadata": {
    "collapsed": false
   },
   "outputs": [
    {
     "name": "stdout",
     "output_type": "stream",
     "text": [
      "A kitten, also known as a kitty or kitty cat, is a juvenile cat.\n",
      "* * *\n",
      "The piano is an acoustic, stringed musical instrument invented in Italy by Bartolomeo Cristofori around the year 1700 in which the strings are struck by hammers.\n",
      "* * *\n",
      "a small gadget or mechanical device, especially one whose name is unknown or unspecified\n",
      "* * *\n",
      "data\n",
      "* * *\n"
     ]
    }
   ],
   "source": [
    "# Definitions of unrelated things: kitten, piano, widget\n",
    "other_defs = [\"A kitten, also known as a kitty or kitty cat, is a juvenile cat.\",\n",
    "             \"The piano is an acoustic, stringed musical instrument invented in Italy by Bartolomeo Cristofori around the year 1700 in which the strings are struck by hammers.\",\n",
    "             \"a small gadget or mechanical device, especially one whose name is unknown or unspecified\",\n",
    "             \"data\"]\n",
    "\n",
    "for d in other_defs:\n",
    "    print(d)\n",
    "    print(\"* * *\")"
   ]
  },
  {
   "cell_type": "markdown",
   "metadata": {},
   "source": [
    "### function to transform new definitions to a X vector"
   ]
  },
  {
   "cell_type": "code",
   "execution_count": 11,
   "metadata": {
    "collapsed": true
   },
   "outputs": [],
   "source": [
    "def get_prediction(definition):\n",
    "    text_x = vectorizer.transform([definition]).toarray()\n",
    "    return(sgd.predict(text_x))"
   ]
  },
  {
   "cell_type": "markdown",
   "metadata": {},
   "source": [
    "### view predicted classifications of new definitions"
   ]
  },
  {
   "cell_type": "code",
   "execution_count": 12,
   "metadata": {
    "collapsed": false
   },
   "outputs": [
    {
     "name": "stdout",
     "output_type": "stream",
     "text": [
      "Model predictions for 'machine learning' definitions:\n",
      "[ True]\n",
      "[ True]\n",
      "[ True]\n",
      "* * *\n",
      "Model predictions for 'AI' definitions:\n",
      "[False]\n",
      "[False]\n",
      "* * *\n",
      "Model predictions for other definitions (kitten, piano, widget):\n",
      "[False]\n",
      "[False]\n",
      "[False]\n",
      "[ True]\n"
     ]
    }
   ],
   "source": [
    "print(\"Model predictions for 'machine learning' definitions:\")\n",
    "for mld in ml_defs:\n",
    "    print(get_prediction(mld))\n",
    "    \n",
    "print(\"* * *\")\n",
    "print(\"Model predictions for 'AI' definitions:\")\n",
    "for aid in ai_defs:\n",
    "    print(get_prediction(aid))\n",
    "\n",
    "print(\"* * *\")\n",
    "print(\"Model predictions for other definitions (kitten, piano, widget):\")\n",
    "for otherd in other_defs:\n",
    "    print(get_prediction(otherd))"
   ]
  },
  {
   "cell_type": "code",
   "execution_count": null,
   "metadata": {
    "collapsed": true
   },
   "outputs": [],
   "source": []
  }
 ],
 "metadata": {
  "kernelspec": {
   "display_name": "Python 3",
   "language": "python",
   "name": "python3"
  },
  "language_info": {
   "codemirror_mode": {
    "name": "ipython",
    "version": 3
   },
   "file_extension": ".py",
   "mimetype": "text/x-python",
   "name": "python",
   "nbconvert_exporter": "python",
   "pygments_lexer": "ipython3",
   "version": "3.5.2"
  }
 },
 "nbformat": 4,
 "nbformat_minor": 1
}
